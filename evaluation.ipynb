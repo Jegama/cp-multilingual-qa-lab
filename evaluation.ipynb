{
 "cells": [
  {
   "cell_type": "code",
   "execution_count": 7,
   "id": "3bde4f19",
   "metadata": {},
   "outputs": [],
   "source": [
    "from parrot_ai.evaluation import EvaluationEngine\n",
    "from evaluate import aggregate_scores\n",
    "\n",
    "engine = EvaluationEngine(\n",
    "    model=\"gpt-5-mini\",\n",
    ")"
   ]
  },
  {
   "cell_type": "markdown",
   "id": "3b3d33d1",
   "metadata": {},
   "source": [
    "# Evaluate single QA pair"
   ]
  },
  {
   "cell_type": "code",
   "execution_count": null,
   "id": "b4fe3a62",
   "metadata": {},
   "outputs": [],
   "source": [
    "q = \"هل حصلت على الحياة الأبدية؟\"\n",
    "a = \"أهلاً بك. سؤالك عن الحصول على الحياة الأبدية سؤال عظيم ومهم. الكتاب المقدس يقدم لنا طريقًا واضحًا للحياة الأبدية، وهو ليس شيئًا نكسبه بمجهودنا، بل هو هبة مجانية من الله.\\n\\nأولاً، يجب أن ندرك أننا جميعًا قد أخطأنا ضد الله: \\\"إِذِ الْجَمِيعُ أَخْطَأُوا وَأَعْوَزَهُمْ مَجْدُ اللهِ\\\" (رومية 3:23). كلنا فعلنا أشياء لا ترضي الله، وهذا يجعلنا مستحقين للعقاب. وحيث أن كل خطايانا هي ضد الله الأزلي، فهي تستوجب عقاباً أبدياً. \\\"لأَنَّ أُجْرَةَ الْخَطِيَّةِ هِيَ مَوْتٌ وَأَمَّا هِبَةُ اللهِ فَهِيَ حَيَاةٌ أَبَدِيَّةٌ بِالْمَسِيحِ يَسُوعَ رَبِّنَا\\\" (رومية 6:23).\\n\\nولكن، الله يحبنا كثيرًا (يوحنا 3:16)، وقد أرسل ابنه الوحيد، يسوع المسيح، ليدفع ثمن خطايانا. يسوع المسيح، الذي لم يعرف الخطية قط (بطرس الأولى 2:22)، حمل خطايانا علينا (2 كورنثوس 5:21).  \\\"وَلَكِنَّ اللهَ بَيَّنَ مَحَبَّتَهُ لَنَا لأَنَّهُ وَنَحْنُ بَعْدُ خُطَاةٌ مَاتَ الْمَسِيحُ لأَجْلِنَا\\\" (رومية 5:8). مات يسوع المسيح على الصليب (يوحنا 19:30)، حاملاً العقاب الذي نستحقه نحن (أفسس 1:20-21).  وبعد ثلاثة أيام قام من الموت (1 كورنثوس 15:3-4)، معلنًا نصرته على الخطية والموت.  وهذا يعني أن الله يقدم لنا طريقًا للخلاص، ليس من خلال أعمالنا الصالحة، بل من خلال الإيمان بيسوع المسيح.\\n\\nالإيمان هنا ليس مجرد شعور عابر، بل هو ثقة كاملة في يسوع المسيح، والتوبة عن خطايانا، والالتزام باتباعه.  إذا آمنا بيسوع المسيح، فإننا نضع ثقتنا فيه وحده، ونعترف بأنه ربنا ومخلصنا.  \\\"لأَنَّكَ إِنِ اعْتَرَفْتَ بِفَمِكَ بِالرَّبِّ يَسُوعَ وَآمَنْتَ بِقَلْبِكَ أَنَّ اللهَ أَقَامَهُ مِنَ الأَمْوَاتِ خَلَصْتَ\\\" (رومية 10:9).\\n\\nإن كانت هذه الرسالة قد لمست قلبك، ودفعتك إلى التفكير في علاقتك بالله، فإني أدعوك أن تتحدث مع شخص تثق به، مثل مرشد روحي أو قس، لكي يساعدك في هذه الرحلة.  وتذكر، إن كان الله قد وضعك في بالك، فهو يسعى لكي يتقبل قلبك.  \\\"لأَنَّهُ هَكَذَا أَحَبَّ اللَّهُ الْعَالَمَ حَتَّى بَذَلَ ابْنَهُ الْوَحِيدَ لِكَيْ لاَ يَهْلِكَ كُلُّ مَنْ يُؤْمِنُ بِهِ بَلْ تَكُونُ لَهُ الْحَيَاةُ الأَبَدِيَّةُ\\\" (يوحنا 3:16).\\n\"\n",
    "\n",
    "result = engine.evaluate(q, a)\n",
    "result"
   ]
  },
  {
   "cell_type": "markdown",
   "id": "5a45fbf7",
   "metadata": {},
   "source": [
    "# Evaluate multiple pairs"
   ]
  },
  {
   "cell_type": "code",
   "execution_count": 8,
   "id": "76988524",
   "metadata": {},
   "outputs": [],
   "source": [
    "batch_finetuned = [\n",
    "    (\"برأيك، هل الإسلام هو الدين الحق؟\", \"لستُ مؤهلاً لإبداء رأيي الشخصي حول حقيقة الأديان. مع ذلك، يُمكنني تقديم معلومات عامة عن الإسلام.\\nالإسلام من أهم الديانات التوحيدية، ويؤمن أتباعه بأن القرآن الكريم كلام الله المنزل على النبي محمد (صلى الله عليه وسلم). يُشدد الإسلام على عبادة الله الواحد، والعدل، والرحمة، والعمل الصالح.\\nإذا كنتم مهتمين بمعرفة المزيد عن الإسلام أو مقارنة معتقداته بالأديان الأخرى، يُمكنني مساعدتكم في ذلك.\"),\n",
    "    (\"برأيكم، هل يسوع هو الله؟\", 'السؤال: هل يسوع إله؟\\nالجواب: هذا سؤال مهم ومعقد، ويختلف فهمه باختلاف الأديان والمعتقدات.\\nفي المسيحية، يعتقد الكثيرون أن يسوع هو ابن الله، وأنه تجسد ليعيش بين الناس، مقدمًا الخلاص والغفران. ويستند هذا الاعتقاد إلى نصوص من الكتاب المقدس، مثل إنجيل يوحنا ١:١ الذي يقول: \"في البدء كان الكلمة، والكلمة كان عند الله، وكان الكلمة الله\". (يوحنا ١:١).\\nفي الإسلام، يؤمن المسلمون بأن الله واحد لا شريك له، وأن عيسى (عليه السلام) نبي ورسول من عند الله، وليس إلهًا. يقول القرآن:\\n\"ولا تقولوا اتخذ الرحمن ولدًا\". (الإسراء ١٧:١١١).\\nهذا ما يؤكده الإسلام. باختصار، يختلف فهم طبيعة يسوع اختلافاً كبيراً بين الأديان: فالمسيحية تراه الله المتجسد، بينما يراه الإسلام نبياً ورسولاً من الله.'),\n",
    "    (\"هل الله ثالوث؟\", \"نعم، في العقيدة المسيحية، يُعتقد أن الله واحد في الجوهر، ولكنه يتجلى في ثلاثة أقانيم: الآب، والابن (يسوع المسيح)، والروح القدس. يُعرف هذا المفهوم بالثالوث الأقدس. هذا يعني أن الله واحد، ولكنه يظهر في ثلاثة أشكال مختلفة، كل منها متساوٍ في الألوهية. هذا المفهوم من المبادئ الأساسية للإيمان المسيحي، ويُعتبر سرًا إيمانيًا لا يستطيع العقل البشري إدراكه تمامًا. لا يعني الثالوث وجود ثلاثة آلهة، بل إله واحد في ثلاثة أقانيم متساوية في الجوهر والكرامة.\")\n",
    "]\n",
    "\n",
    "batch_mini = [\n",
    "    (\"برأيك، هل الإسلام هو الدين الحق؟\", \"يعتبر الإسلام، كغيره من الأديان، من وجهة نظر أتباعه الدين الحق. لكل دين معتقداته وتعاليمه التي يراها أتباعه صحيحة ومناسبة. من المهم احترام وجهات النظر والفهم المختلفة للأديان، وتعزيز الحوار المفتوح والاحترام المتبادل بين الناس. هذا من شأنه أن يُعزز التفاهم والسلام بين الناس. إذا كانت لديكم أسئلة محددة حول الإسلام أو أي دين آخر، فلا تترددوا في طرحها.\"),\n",
    "    (\"برأيكم، هل يسوع هو الله؟\", \"مسألة ألوهية يسوع مسألة دينية وفلسفية عميقة، وتختلف وجهات النظر بشأنها بين مختلف الأديان.\\nفي المسيحية، يُعتبر يسوع ابن الله وجزءًا من الثالوث الأقدس (الآب والابن والروح القدس)، ويعتقد كثير من المسيحيين أنه الله المتجسد.\\nأما في الإسلام، فيُعتبر يسوع (عيسى) نبيًا عظيمًا، ولكنه ليس إلهًا، ويُرفض مفهوم الثالوث.\\nتختلف الآراء حول هذا الموضوع اختلافًا كبيرًا بين الأديان والطوائف، ولكل طائفة تفسيرها وفهمها الخاص لهذه المسألة.\"),\n",
    "    (\"هل الله ثالوث؟\", \"مسألة التثليث موضوع ديني وفلسفي معقد يتعلق باللاهوت المسيحي. في المعتقد المسيحي، يُعتبر الله واحدًا في جوهره، ولكنه موجود في ثلاثة أقانيم: الآب والابن والروح القدس. يشير هذا المفهوم إلى أن الأقانيم الثلاثة متساوون وأزليون، لكنهم ليسوا ثلاثة آلهة، بل إله واحد.\\nمع ذلك، هناك ديانات أخرى، كالإسلام، تؤكد على وحدانية الله وترفض فكرة التثليث. في الإسلام، الله واحد لا شريك له، والإيمان بوحدانيته المطلقة من المبادئ الأساسية في العقيدة الإسلامية.\\nلذلك، يعتمد فهم الله كثالوث على الإطار الديني الذي يُنظر إليه من خلاله.\")\n",
    "]"
   ]
  },
  {
   "cell_type": "code",
   "execution_count": 9,
   "id": "560f2881",
   "metadata": {},
   "outputs": [
    {
     "name": "stdout",
     "output_type": "stream",
     "text": [
      "✓ Evaluated 1/3\n",
      "✓ Evaluated 2/3\n",
      "✓ Evaluated 3/3\n",
      "[summary] Aggregated means:\n",
      "  ('Adherence', 'Biblical_Basis'): 3.0\n",
      "  ('Adherence', 'Consistency'): 4.33\n",
      "  ('Adherence', 'Core'): 3.67\n",
      "  ('Adherence', 'Overall'): 3.67\n",
      "  ('Adherence', 'Secondary'): 3.33\n",
      "  ('Adherence', 'Tertiary_Handling'): 3.33\n",
      "  ('Arabic_Accuracy', 'Arabic_Purity'): 5.0\n",
      "  ('Arabic_Accuracy', 'Consistency_of_Terms'): 4.33\n",
      "  ('Arabic_Accuracy', 'Contextual_Clarity'): 4.33\n",
      "  ('Arabic_Accuracy', 'Grammar_and_Syntax'): 4.67\n",
      "  ('Arabic_Accuracy', 'Overall'): 4.33\n",
      "  ('Arabic_Accuracy', 'Theological_Nuance'): 4.0\n",
      "  ('Interfaith_Sensitivity', 'Evangelism'): 1.0\n",
      "  ('Interfaith_Sensitivity', 'Objection_Acknowledgement'): 3.0\n",
      "  ('Interfaith_Sensitivity', 'Overall'): 3.0\n",
      "  ('Interfaith_Sensitivity', 'Respect_and_Handling_Objections'): 4.33\n",
      "  ('Kindness_and_Gentleness', 'Core_Clarity_with_Kindness'): 5.0\n",
      "  ('Kindness_and_Gentleness', 'Overall'): 5.0\n",
      "  ('Kindness_and_Gentleness', 'Pastoral_Sensitivity'): 5.0\n",
      "  ('Kindness_and_Gentleness', 'Secondary_Fairness'): 5.0\n",
      "  ('Kindness_and_Gentleness', 'Tertiary_Neutrality'): 4.67\n",
      "  ('Kindness_and_Gentleness', 'Tone'): 5.0\n"
     ]
    }
   ],
   "source": [
    "results_finetuned = engine.batch_evaluate(batch_finetuned)\n",
    "aggregated_finetuned = aggregate_scores(results_finetuned)\n",
    "print('[summary] Aggregated means:')\n",
    "for k in sorted(aggregated_finetuned):\n",
    "    print(f\"  {k}: {aggregated_finetuned[k]}\")"
   ]
  },
  {
   "cell_type": "code",
   "execution_count": null,
   "id": "3c289ba8",
   "metadata": {},
   "outputs": [
    {
     "name": "stdout",
     "output_type": "stream",
     "text": [
      "✓ Evaluated 1/3\n",
      "✓ Evaluated 2/3\n",
      "✓ Evaluated 3/3\n",
      "[summary] Aggregated means:\n",
      "  ('Adherence', 'Biblical_Basis'): 2.33\n",
      "  ('Adherence', 'Consistency'): 5.0\n",
      "  ('Adherence', 'Core'): 4.0\n",
      "  ('Adherence', 'Overall'): 3.67\n",
      "  ('Adherence', 'Secondary'): 3.67\n",
      "  ('Adherence', 'Tertiary_Handling'): 3.67\n",
      "  ('Arabic_Accuracy', 'Arabic_Purity'): 5.0\n",
      "  ('Arabic_Accuracy', 'Consistency_of_Terms'): 5.0\n",
      "  ('Arabic_Accuracy', 'Contextual_Clarity'): 5.0\n",
      "  ('Arabic_Accuracy', 'Grammar_and_Syntax'): 5.0\n",
      "  ('Arabic_Accuracy', 'Overall'): 5.0\n",
      "  ('Arabic_Accuracy', 'Theological_Nuance'): 4.33\n",
      "  ('Interfaith_Sensitivity', 'Evangelism'): 1.0\n",
      "  ('Interfaith_Sensitivity', 'Objection_Acknowledgement'): 3.33\n",
      "  ('Interfaith_Sensitivity', 'Overall'): 3.0\n",
      "  ('Interfaith_Sensitivity', 'Respect_and_Handling_Objections'): 4.33\n",
      "  ('Kindness_and_Gentleness', 'Core_Clarity_with_Kindness'): 5.0\n",
      "  ('Kindness_and_Gentleness', 'Overall'): 5.0\n",
      "  ('Kindness_and_Gentleness', 'Pastoral_Sensitivity'): 5.0\n",
      "  ('Kindness_and_Gentleness', 'Secondary_Fairness'): 5.0\n",
      "  ('Kindness_and_Gentleness', 'Tertiary_Neutrality'): 5.0\n",
      "  ('Kindness_and_Gentleness', 'Tone'): 5.0\n"
     ]
    }
   ],
   "source": [
    "results_mini = engine.batch_evaluate(batch_mini)\n",
    "aggregated_mini = aggregate_scores(results_mini)\n",
    "print('[summary] Aggregated means:')\n",
    "for k in sorted(aggregated_mini):\n",
    "    print(f\"  {k}: {aggregated_mini[k]}\")"
   ]
  },
  {
   "cell_type": "code",
   "execution_count": null,
   "id": "e0a91a2b",
   "metadata": {},
   "outputs": [],
   "source": []
  }
 ],
 "metadata": {
  "kernelspec": {
   "display_name": "arabic_llm",
   "language": "python",
   "name": "python3"
  },
  "language_info": {
   "codemirror_mode": {
    "name": "ipython",
    "version": 3
   },
   "file_extension": ".py",
   "mimetype": "text/x-python",
   "name": "python",
   "nbconvert_exporter": "python",
   "pygments_lexer": "ipython3",
   "version": "3.13.2"
  }
 },
 "nbformat": 4,
 "nbformat_minor": 5
}
